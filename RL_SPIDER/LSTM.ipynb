{
 "cells": [
  {
   "cell_type": "markdown",
   "metadata": {},
   "source": [
    "# LSTM using numpy\n"
   ]
  },
  {
   "cell_type": "code",
   "execution_count": 1,
   "metadata": {},
   "outputs": [],
   "source": [
    "import numpy as np\n"
   ]
  },
  {
   "cell_type": "code",
   "execution_count": 18,
   "metadata": {},
   "outputs": [
    {
     "ename": "IndentationError",
     "evalue": "unindent does not match any outer indentation level (<ipython-input-18-50a89c0f2343>, line 54)",
     "output_type": "error",
     "traceback": [
      "\u001b[1;36m  File \u001b[1;32m\"<ipython-input-18-50a89c0f2343>\"\u001b[1;36m, line \u001b[1;32m54\u001b[0m\n\u001b[1;33m    def baxckward(self,x,y):\u001b[0m\n\u001b[1;37m                            ^\u001b[0m\n\u001b[1;31mIndentationError\u001b[0m\u001b[1;31m:\u001b[0m unindent does not match any outer indentation level\n"
     ]
    }
   ],
   "source": [
    "class LSTM():\n",
    "\t\"\"\"docstring for LSTM\"\"\"\n",
    "\tdef __init__(self, input_size,hidden_size,output_size):\n",
    "\n",
    "\t\tself.input_size=input_size\n",
    "\t\tself.hidden_size=hidden_size\n",
    "\t\tself.output_size=output_size\n",
    "\n",
    "\t\tself.Wf=np.random.random((self.hidden_size+self.input_size+1,self.hidden_size))\n",
    "\t\tself.Wi=np.random.random((self.hidden_size+self.input_size+1,self.hidden_size))\n",
    "\t\tself.Wc=np.random.random((self.hidden_size+self.input_size+1,self.hidden_size))\n",
    "\t\tself.Wo=np.random.random((self.hidden_size+self.input_size+1,self.hidden_size))\n",
    "\n",
    "\t\tself.cell_state=np.zeros((1,self.hidden_size))\n",
    "\t\tself.hidden_state=np.zeros((1,self.hidden_size))\n",
    "\n",
    "\t\tself.cell_states=list()\n",
    "\t\tself.forget_gates=list()\n",
    "\t\tself.input_gates=list()\n",
    "\t\tself.cell_state_gate_temp=list()\n",
    "\t\tself.hidden_states=list()\n",
    "\t\tself.outputs=list()\n",
    "\n",
    "\tdef forward(self,X):\n",
    "\t\tprint(X.shape)\n",
    "\t\tx=np.hstack((self.hidden_state,X,np.ones((1,1))))\n",
    "\n",
    "\t\tforget_gate=self.sigmoid(np.dot(x,self.Wf))\t\n",
    "\t\tinput_gate=self.sigmoid(np.dot(x,self.Wi))\n",
    "\t\tcell_state_gate_temp=self.tangent(np.dot(x,self.Wc))\t\n",
    "\t\tself.cell_state=(forget_gate*self.cell_state)+(input_gate*cell_state_gate_temp)\n",
    "\t\tself.output=self.sigmoid(np.dot(x,self.Wo))\n",
    "\t\tself.hidden_state=self.output*self.tangent(self.cell_state)\n",
    "\t\t\n",
    "\t\tself.cell_states.append(self.cell_state)\n",
    "\t\tself.forget_gates.append(forget_gate)\n",
    "\t\tself.input_gates.append(input_gate)\n",
    "\t\tself.cell_state_gate_temp.append(cell_state_gate_temp)\n",
    "\t\tself.hidden_states.append(self.hidden_state)\n",
    "\t\tself.outputs.append(self.output)\n",
    "\t\treturn self.output\n",
    "    \n",
    "\tdef tangent(self,x):\n",
    "\t\treturn np.tanh(x)\n",
    "\n",
    "\tdef dtangent(self,x):\n",
    "\t\treturn 1-np.tanh(x)**2\n",
    "\n",
    "\tdef sigmoid(self,x):\n",
    "\t\treturn 1/(1+np.exp(-x))\n",
    "\n",
    "\tdef dsigmoid(self,x):\n",
    "\t\treturn self.sigmoid(x)*(1-self.sigmoid(x))\n",
    "    def baxckward(self,x,y):\n",
    "        for t in reversed(range(x.shape[0])):\n",
    "            print(t)\n"
   ]
  },
  {
   "cell_type": "code",
   "execution_count": 13,
   "metadata": {},
   "outputs": [],
   "source": [
    "lstm=LSTM(1,5,1)\n"
   ]
  },
  {
   "cell_type": "code",
   "execution_count": 14,
   "metadata": {},
   "outputs": [
    {
     "name": "stdout",
     "output_type": "stream",
     "text": [
      "(1, 1)\n"
     ]
    },
    {
     "data": {
      "text/plain": [
       "array([[ 0.79553751,  0.65019184,  0.79979722,  0.62107438,  0.73590119]])"
      ]
     },
     "execution_count": 14,
     "metadata": {},
     "output_type": "execute_result"
    }
   ],
   "source": [
    "lstm.forward(np.array([[0.6]]))"
   ]
  },
  {
   "cell_type": "code",
   "execution_count": 15,
   "metadata": {},
   "outputs": [],
   "source": []
  },
  {
   "cell_type": "code",
   "execution_count": 16,
   "metadata": {},
   "outputs": [],
   "source": [
    "x=np.array(range(1000))/100.0"
   ]
  },
  {
   "cell_type": "code",
   "execution_count": 17,
   "metadata": {},
   "outputs": [
    {
     "ename": "AttributeError",
     "evalue": "LSTM instance has no attribute 'backward'",
     "output_type": "error",
     "traceback": [
      "\u001b[1;31m--------------------------------------------------------------------------\u001b[0m",
      "\u001b[1;31mAttributeError\u001b[0m                           Traceback (most recent call last)",
      "\u001b[1;32m<ipython-input-17-94b2ad970465>\u001b[0m in \u001b[0;36m<module>\u001b[1;34m()\u001b[0m\n\u001b[0;32m      1\u001b[0m \u001b[0my\u001b[0m\u001b[1;33m=\u001b[0m\u001b[0mnp\u001b[0m\u001b[1;33m.\u001b[0m\u001b[0mcos\u001b[0m\u001b[1;33m(\u001b[0m\u001b[0mx\u001b[0m\u001b[1;33m)\u001b[0m\u001b[1;33m\u001b[0m\u001b[0m\n\u001b[1;32m----> 2\u001b[1;33m \u001b[0mlstm\u001b[0m\u001b[1;33m.\u001b[0m\u001b[0mbackward\u001b[0m\u001b[1;33m(\u001b[0m\u001b[0mx\u001b[0m\u001b[1;33m,\u001b[0m\u001b[0my\u001b[0m\u001b[1;33m)\u001b[0m\u001b[1;33m\u001b[0m\u001b[0m\n\u001b[0m",
      "\u001b[1;31mAttributeError\u001b[0m: LSTM instance has no attribute 'backward'"
     ]
    }
   ],
   "source": [
    "y=np.cos(x)\n",
    "lstm.backward(x,y)"
   ]
  },
  {
   "cell_type": "code",
   "execution_count": null,
   "metadata": {},
   "outputs": [],
   "source": []
  }
 ],
 "metadata": {
  "kernelspec": {
   "display_name": "Python 2",
   "language": "python",
   "name": "python2"
  },
  "language_info": {
   "codemirror_mode": {
    "name": "ipython",
    "version": 2
   },
   "file_extension": ".py",
   "mimetype": "text/x-python",
   "name": "python",
   "nbconvert_exporter": "python",
   "pygments_lexer": "ipython2",
   "version": "2.7.13"
  }
 },
 "nbformat": 4,
 "nbformat_minor": 2
}
