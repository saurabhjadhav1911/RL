{
 "cells": [
  {
   "cell_type": "code",
   "execution_count": 13,
   "metadata": {},
   "outputs": [],
   "source": [
    "import bs4 as bs\n",
    "try:\n",
    "    import urllib2 as ur\n",
    "except:\n",
    "    import urllib.request as ur\n",
    "import sys\n",
    "from PyQt4.QtGui import QApplication\n",
    "from PyQt4.QtCore import QUrl\n",
    "from PyQt4.QtWebKit import QWebPage\n"
   ]
  },
  {
   "cell_type": "code",
   "execution_count": 24,
   "metadata": {},
   "outputs": [],
   "source": [
    "class WebScarperClient(QWebPage):\n",
    "    def __init__(self,url=None):\n",
    "        self.app=QApplication(sys.argv)\n",
    "        QWebPage.__init__(self)\n",
    "        self.loadFinished.connect(self.on_page_load)\n",
    "        self.url=\"https://www.quora.com/topic/Graduate-Aptitude-Test-in-Engineering-GATE\" or url\n",
    "        self.mainFrame().load(QUrl(self.url))\n",
    "        self.soup=self.get_active_page()\n",
    "    def on_page_load(self):\n",
    "        self.app.quit()\n",
    "    def get_page(self,url):\n",
    "        page=ur.urlopen(url)\n",
    "        return bs.BeautifulSoup(page,'lxml')\n",
    "    def get_active_page(self):\n",
    "        return self.mainFrame().toHtml()\n",
    "    def get_elements(self):\n",
    "        return [element.text for element in self.soup.find_all('span',class_='question_text')]"
   ]
  },
  {
   "cell_type": "code",
   "execution_count": 25,
   "metadata": {},
   "outputs": [
    {
     "name": "stdout",
     "output_type": "stream",
     "text": [
      "<html><head></head><body></body></html>\n"
     ]
    }
   ],
   "source": [
    "wbc=WebScarperClient()\n",
    "print(wbc.get_active_page())"
   ]
  },
  {
   "cell_type": "code",
   "execution_count": 1,
   "metadata": {},
   "outputs": [],
   "source": [
    "import sys\n",
    "from PyQt4.QtGui import QApplication\n",
    "from PyQt4.QtCore import QUrl\n",
    "from PyQt4.QtCore import QString\n",
    "from PyQt4.QtWebKit import QWebPage\n",
    "import bs4 as bs\n",
    "try:\n",
    "    import urllib2 as ur\n",
    "except:\n",
    "    import urllib.request as ur\n",
    "\n",
    "class Client(QWebPage):\n",
    "\n",
    "    def __init__(self, url):\n",
    "        self.app = QApplication(sys.argv)\n",
    "        QWebPage.__init__(self)\n",
    "        self.loadFinished.connect(self.on_page_load)\n",
    "        self.mainFrame().load(QUrl(url))\n",
    "        self.app.exec_()\n",
    "        \n",
    "    def on_page_load(self):\n",
    "        self.app.quit()\n",
    "        \n",
    "url = 'https://pythonprogramming.net/parsememcparseface/'\n",
    "client_response = Client(url)\n",
    "source = client_response.mainFrame().toHtml()\n",
    "print('done')"
   ]
  },
  {
   "cell_type": "code",
   "execution_count": 2,
   "metadata": {},
   "outputs": [
    {
     "data": {
      "text/plain": [
       "PyQt4.QtCore.QString"
      ]
     },
     "execution_count": 2,
     "metadata": {},
     "output_type": "execute_result"
    }
   ],
   "source": [
    "type(source)"
   ]
  },
  {
   "cell_type": "code",
   "execution_count": 3,
   "metadata": {},
   "outputs": [],
   "source": [
    "src=source.toUtf8()"
   ]
  },
  {
   "cell_type": "code",
   "execution_count": 4,
   "metadata": {},
   "outputs": [
    {
     "data": {
      "text/plain": [
       "PyQt4.QtCore.QByteArray"
      ]
     },
     "execution_count": 4,
     "metadata": {},
     "output_type": "execute_result"
    }
   ],
   "source": [
    "type(src)"
   ]
  },
  {
   "cell_type": "code",
   "execution_count": 5,
   "metadata": {},
   "outputs": [
    {
     "data": {
      "text/plain": [
       "['__add__',\n",
       " '__class__',\n",
       " '__contains__',\n",
       " '__delattr__',\n",
       " '__dict__',\n",
       " '__doc__',\n",
       " '__eq__',\n",
       " '__format__',\n",
       " '__ge__',\n",
       " '__getattribute__',\n",
       " '__getitem__',\n",
       " '__gt__',\n",
       " '__hash__',\n",
       " '__iadd__',\n",
       " '__imul__',\n",
       " '__init__',\n",
       " '__le__',\n",
       " '__len__',\n",
       " '__lt__',\n",
       " '__module__',\n",
       " '__mul__',\n",
       " '__ne__',\n",
       " '__new__',\n",
       " '__radd__',\n",
       " '__reduce__',\n",
       " '__reduce_ex__',\n",
       " '__repr__',\n",
       " '__rmul__',\n",
       " '__setattr__',\n",
       " '__sizeof__',\n",
       " '__str__',\n",
       " '__subclasshook__',\n",
       " '__weakref__',\n",
       " 'append',\n",
       " 'at',\n",
       " 'capacity',\n",
       " 'chop',\n",
       " 'clear',\n",
       " 'contains',\n",
       " 'count',\n",
       " 'data',\n",
       " 'endsWith',\n",
       " 'fill',\n",
       " 'fromBase64',\n",
       " 'fromHex',\n",
       " 'fromPercentEncoding',\n",
       " 'fromRawData',\n",
       " 'indexOf',\n",
       " 'insert',\n",
       " 'isEmpty',\n",
       " 'isNull',\n",
       " 'lastIndexOf',\n",
       " 'left',\n",
       " 'leftJustified',\n",
       " 'length',\n",
       " 'mid',\n",
       " 'number',\n",
       " 'prepend',\n",
       " 'push_back',\n",
       " 'push_front',\n",
       " 'remove',\n",
       " 'repeated',\n",
       " 'replace',\n",
       " 'reserve',\n",
       " 'resize',\n",
       " 'right',\n",
       " 'rightJustified',\n",
       " 'setNum',\n",
       " 'simplified',\n",
       " 'size',\n",
       " 'split',\n",
       " 'squeeze',\n",
       " 'startsWith',\n",
       " 'swap',\n",
       " 'toBase64',\n",
       " 'toDouble',\n",
       " 'toFloat',\n",
       " 'toHex',\n",
       " 'toInt',\n",
       " 'toLong',\n",
       " 'toLongLong',\n",
       " 'toLower',\n",
       " 'toPercentEncoding',\n",
       " 'toShort',\n",
       " 'toUInt',\n",
       " 'toULong',\n",
       " 'toULongLong',\n",
       " 'toUShort',\n",
       " 'toUpper',\n",
       " 'trimmed',\n",
       " 'truncate']"
      ]
     },
     "execution_count": 5,
     "metadata": {},
     "output_type": "execute_result"
    }
   ],
   "source": [
    "dir(src)"
   ]
  },
  {
   "cell_type": "code",
   "execution_count": 7,
   "metadata": {},
   "outputs": [],
   "source": [
    "page=src.data()"
   ]
  },
  {
   "cell_type": "code",
   "execution_count": 8,
   "metadata": {},
   "outputs": [
    {
     "data": {
      "text/plain": [
       "str"
      ]
     },
     "execution_count": 8,
     "metadata": {},
     "output_type": "execute_result"
    }
   ],
   "source": [
    "type(page)"
   ]
  },
  {
   "cell_type": "code",
   "execution_count": 9,
   "metadata": {},
   "outputs": [],
   "source": [
    "soup = bs.BeautifulSoup(page, 'lxml')"
   ]
  },
  {
   "cell_type": "code",
   "execution_count": 10,
   "metadata": {},
   "outputs": [
    {
     "name": "stdout",
     "output_type": "stream",
     "text": [
      "Look at you shinin!\n"
     ]
    }
   ],
   "source": [
    "js_test = soup.find('p', class_='jstest')\n",
    "print(js_test.text)"
   ]
  },
  {
   "cell_type": "code",
   "execution_count": 11,
   "metadata": {},
   "outputs": [
    {
     "data": {
      "text/plain": [
       "['KeepEmptyParts',\n",
       " 'NormalizationForm',\n",
       " 'NormalizationForm_C',\n",
       " 'NormalizationForm_D',\n",
       " 'NormalizationForm_KC',\n",
       " 'NormalizationForm_KD',\n",
       " 'SectionCaseInsensitiveSeps',\n",
       " 'SectionDefault',\n",
       " 'SectionFlag',\n",
       " 'SectionFlags',\n",
       " 'SectionIncludeLeadingSep',\n",
       " 'SectionIncludeTrailingSep',\n",
       " 'SectionSkipEmpty',\n",
       " 'SkipEmptyParts',\n",
       " 'SplitBehavior',\n",
       " '__add__',\n",
       " '__class__',\n",
       " '__contains__',\n",
       " '__delattr__',\n",
       " '__dict__',\n",
       " '__doc__',\n",
       " '__eq__',\n",
       " '__format__',\n",
       " '__ge__',\n",
       " '__getattribute__',\n",
       " '__getitem__',\n",
       " '__gt__',\n",
       " '__hash__',\n",
       " '__iadd__',\n",
       " '__imul__',\n",
       " '__init__',\n",
       " '__le__',\n",
       " '__len__',\n",
       " '__lt__',\n",
       " '__module__',\n",
       " '__mul__',\n",
       " '__ne__',\n",
       " '__new__',\n",
       " '__radd__',\n",
       " '__reduce__',\n",
       " '__reduce_ex__',\n",
       " '__repr__',\n",
       " '__rmul__',\n",
       " '__setattr__',\n",
       " '__sizeof__',\n",
       " '__str__',\n",
       " '__subclasshook__',\n",
       " '__weakref__',\n",
       " 'append',\n",
       " 'arg',\n",
       " 'at',\n",
       " 'capacity',\n",
       " 'chop',\n",
       " 'clear',\n",
       " 'compare',\n",
       " 'contains',\n",
       " 'count',\n",
       " 'endsWith',\n",
       " 'fill',\n",
       " 'fromAscii',\n",
       " 'fromLatin1',\n",
       " 'fromLocal8Bit',\n",
       " 'fromUtf8',\n",
       " 'indexOf',\n",
       " 'insert',\n",
       " 'isEmpty',\n",
       " 'isNull',\n",
       " 'isRightToLeft',\n",
       " 'isSimpleText',\n",
       " 'lastIndexOf',\n",
       " 'left',\n",
       " 'leftJustified',\n",
       " 'length',\n",
       " 'localeAwareCompare',\n",
       " 'mid',\n",
       " 'normalized',\n",
       " 'number',\n",
       " 'prepend',\n",
       " 'push_back',\n",
       " 'push_front',\n",
       " 'remove',\n",
       " 'repeated',\n",
       " 'replace',\n",
       " 'reserve',\n",
       " 'resize',\n",
       " 'right',\n",
       " 'rightJustified',\n",
       " 'section',\n",
       " 'setNum',\n",
       " 'simplified',\n",
       " 'size',\n",
       " 'split',\n",
       " 'squeeze',\n",
       " 'startsWith',\n",
       " 'swap',\n",
       " 'toAscii',\n",
       " 'toCaseFolded',\n",
       " 'toDouble',\n",
       " 'toFloat',\n",
       " 'toInt',\n",
       " 'toLatin1',\n",
       " 'toLocal8Bit',\n",
       " 'toLong',\n",
       " 'toLongLong',\n",
       " 'toLower',\n",
       " 'toShort',\n",
       " 'toUInt',\n",
       " 'toULong',\n",
       " 'toULongLong',\n",
       " 'toUShort',\n",
       " 'toUpper',\n",
       " 'toUtf8',\n",
       " 'trimmed',\n",
       " 'truncate']"
      ]
     },
     "execution_count": 11,
     "metadata": {},
     "output_type": "execute_result"
    }
   ],
   "source": [
    "dir(source)"
   ]
  },
  {
   "cell_type": "code",
   "execution_count": null,
   "metadata": {},
   "outputs": [],
   "source": []
  }
 ],
 "metadata": {
  "kernelspec": {
   "display_name": "Python 2",
   "language": "python",
   "name": "python2"
  },
  "language_info": {
   "codemirror_mode": {
    "name": "ipython",
    "version": 2
   },
   "file_extension": ".py",
   "mimetype": "text/x-python",
   "name": "python",
   "nbconvert_exporter": "python",
   "pygments_lexer": "ipython2",
   "version": "2.7.13"
  }
 },
 "nbformat": 4,
 "nbformat_minor": 2
}
